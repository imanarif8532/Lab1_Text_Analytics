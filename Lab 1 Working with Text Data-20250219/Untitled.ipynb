{
 "cells": [
  {
   "cell_type": "code",
   "execution_count": 50,
   "id": "cb9020c7-e968-4b91-87b4-a379dcb48f98",
   "metadata": {},
   "outputs": [
    {
     "name": "stdout",
     "output_type": "stream",
     "text": [
      "Raw Text:\n",
      " Hello, this is a sample text file.\n",
      "This is the second line.\n"
     ]
    }
   ],
   "source": [
    "# Read the content of the text file\n",
    "with open('sample.txt', 'r', encoding='utf-8') as file:\n",
    "    text_data = file.read()  # Indented correctly\n",
    "    print(\"Raw Text:\\n\", text_data)\n",
    "\n",
    "# Store in another file\n",
    "with open('stored_text.txt', 'w', encoding='utf-8') as file:\n",
    "    file.write(text_data)  # Indented correctly\n"
   ]
  },
  {
   "cell_type": "code",
   "execution_count": 51,
   "id": "351b3282-e35c-40d8-a3aa-b24454a656be",
   "metadata": {},
   "outputs": [
    {
     "name": "stdout",
     "output_type": "stream",
     "text": [
      "Reviews:\n",
      " 0    The product is amazing!\n",
      "1     Worst experience ever!\n",
      "Name: Review, dtype: object\n"
     ]
    }
   ],
   "source": [
    "import pandas as pd\n",
    "# Read the CSV file\n",
    "df = pd.read_csv('reviews.csv')\n",
    "print(\"Reviews:\\n\", df['Review'].head())\n",
    "# Save the reviews column to a text file\n",
    "df['Review'].to_csv('stored_reviews.txt', index=False, header=False)"
   ]
  },
  {
   "cell_type": "code",
   "execution_count": 52,
   "id": "67bf1f1f-5037-4e67-a66c-9082d8b2d84d",
   "metadata": {},
   "outputs": [
    {
     "name": "stdout",
     "output_type": "stream",
     "text": [
      "First two rows:\n",
      "    ID                   Review\n",
      "0   1  The product is amazing!\n",
      "1   2   Worst experience ever!\n"
     ]
    }
   ],
   "source": [
    "# Read the Excel file\n",
    "df_excel = pd.read_excel('reviews.xlsx', engine='openpyxl')\n",
    "print(\"First two rows:\\n\", df_excel.head(2))\n",
    "# Save the first two rows to a text file\n",
    "df_excel.head(2).to_csv('extracted_excel.txt', index=False)"
   ]
  },
  {
   "cell_type": "code",
   "execution_count": 53,
   "id": "7f932720-0d7e-4ccb-8fc9-024bde5fc38c",
   "metadata": {},
   "outputs": [
    {
     "name": "stdout",
     "output_type": "stream",
     "text": [
      "Extracted City: New York\n"
     ]
    }
   ],
   "source": [
    "import json\n",
    "# Read the JSON file\n",
    "with open('social_data.json', 'r', encoding='utf-8') as file:\n",
    "    data = json.load(file)\n",
    "print(\"Extracted City:\", data['city'])\n",
    "# Store the extracted city to a file\n",
    "with open('stored_city.txt', 'w', encoding='utf-8') as file:\n",
    "    file.write(data['city'])"
   ]
  },
  {
   "cell_type": "code",
   "execution_count": 54,
   "id": "48995895-430c-42eb-8282-7072c1221d46",
   "metadata": {},
   "outputs": [
    {
     "name": "stdout",
     "output_type": "stream",
     "text": [
      "Extracted Title: AI is transforming industries\n"
     ]
    }
   ],
   "source": [
    "import xml.etree.ElementTree as ET\n",
    "# Parse the XML file\n",
    "tree = ET.parse('news.xml')\n",
    "root = tree.getroot()\n",
    "for article in root.findall('article'):\n",
    "    title = article.find('title').text\n",
    "    print(\"Extracted Title:\", title)\n",
    "# Store the extracted title to a file\n",
    "with open('stored_titles.txt', 'w', encoding='utf-8') as file:\n",
    "    for article in root.findall('article'):\n",
    "        title = article.find('title').text\n",
    "        file.write(title + '\\n')"
   ]
  },
  {
   "cell_type": "code",
   "execution_count": 55,
   "id": "dee585f1-a34c-4ac0-8d59-8a32e21add95",
   "metadata": {},
   "outputs": [
    {
     "name": "stdout",
     "output_type": "stream",
     "text": [
      "Requirement already satisfied: PyPDF2 in /opt/anaconda3/lib/python3.12/site-packages (3.0.1)\n",
      "Note: you may need to restart the kernel to use updated packages.\n"
     ]
    }
   ],
   "source": [
    "pip install PyPDF2"
   ]
  },
  {
   "cell_type": "code",
   "execution_count": 67,
   "id": "dc9df831-09d6-46c1-94f2-7c22c25334aa",
   "metadata": {},
   "outputs": [
    {
     "name": "stdout",
     "output_type": "stream",
     "text": [
      "Extracted PDF Text:\n",
      " This is a sample PDF document.  \n",
      "AI is transforming industries and automation.  \n"
     ]
    }
   ],
   "source": [
    "import PyPDF2\n",
    "# Read the PDF file\n",
    "with open('document.pdf', 'rb') as file:\n",
    "    reader = PyPDF2.PdfReader(file)\n",
    "    text = \"\\n\".join(page.extract_text() for page in reader.pages if page.extract_text())\n",
    "# Print the extracted text\n",
    "print(\"Extracted PDF Text:\\n\", text)\n",
    "# Store the extracted text in a file\n",
    "with open('stored_pdf_text.txt', 'w', encoding='utf-8') as output:\n",
    "    output.write(text)"
   ]
  },
  {
   "cell_type": "code",
   "execution_count": 69,
   "id": "f044cba6-e5de-4235-96bf-73d92e85c479",
   "metadata": {},
   "outputs": [
    {
     "name": "stdout",
     "output_type": "stream",
     "text": [
      "Extracted text from all pages and saved to 'business_proposal_all.txt'\n"
     ]
    }
   ],
   "source": [
    "import PyPDF2\n",
    "\n",
    "# Open the PDF file\n",
    "with open('Business_Proposal.pdf', 'rb') as file:\n",
    "    reader = PyPDF2.PdfReader(file)\n",
    "    \n",
    "    # Extract text from all pages\n",
    "    all_text = \"\\n\".join(page.extract_text() for page in reader.pages if page.extract_text())\n",
    "\n",
    "# Save to a text file\n",
    "with open('business_proposal_all.txt', 'w', encoding='utf-8') as output_file:\n",
    "    output_file.write(all_text)\n",
    "\n",
    "print(\"Extracted text from all pages and saved to 'business_proposal_all.txt'\")\n"
   ]
  },
  {
   "cell_type": "code",
   "execution_count": 71,
   "id": "3b8d458f-fb0a-4e83-b97d-f1f109a6d075",
   "metadata": {},
   "outputs": [
    {
     "name": "stdout",
     "output_type": "stream",
     "text": [
      "Extracted text from page 2 and saved to 'business_proposal_page_2.txt'\n"
     ]
    }
   ],
   "source": [
    "import PyPDF2\n",
    "\n",
    "# Open the PDF file\n",
    "with open('Business_Proposal.pdf', 'rb') as file:\n",
    "    reader = PyPDF2.PdfReader(file)\n",
    "    \n",
    "    # Extract text from page 2 (index starts from 0, so page 2 is index 1)\n",
    "    page_2_text = reader.pages[1].extract_text()\n",
    "\n",
    "# Save to a text file\n",
    "with open('business_proposal_page_2.txt', 'w', encoding='utf-8') as output_file:\n",
    "    output_file.write(page_2_text)\n",
    "\n",
    "print(\"Extracted text from page 2 and saved to 'business_proposal_page_2.txt'\")\n"
   ]
  },
  {
   "cell_type": "code",
   "execution_count": null,
   "id": "4a2d8cd9-9c4b-419e-82bd-fe88f0f3b64a",
   "metadata": {},
   "outputs": [],
   "source": []
  }
 ],
 "metadata": {
  "kernelspec": {
   "display_name": "Python [conda env:base] *",
   "language": "python",
   "name": "conda-base-py"
  },
  "language_info": {
   "codemirror_mode": {
    "name": "ipython",
    "version": 3
   },
   "file_extension": ".py",
   "mimetype": "text/x-python",
   "name": "python",
   "nbconvert_exporter": "python",
   "pygments_lexer": "ipython3",
   "version": "3.12.7"
  }
 },
 "nbformat": 4,
 "nbformat_minor": 5
}
